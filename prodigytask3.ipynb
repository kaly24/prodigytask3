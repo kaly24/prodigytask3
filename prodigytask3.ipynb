{
 "cells": [
  {
   "cell_type": "code",
   "execution_count": null,
   "id": "3720fd94",
   "metadata": {},
   "outputs": [],
   "source": [
    "pip install graphviz"
   ]
  },
  {
   "cell_type": "code",
   "execution_count": null,
   "id": "cbfacf7f",
   "metadata": {},
   "outputs": [],
   "source": [
    "import pandas as pd\n",
    "import numpy as np\n",
    "import matplotlib.pyplot as plt\n",
    "import seaborn as sns\n",
    "from sklearn.metrics import accuracy_score\n",
    "from sklearn.tree import DecisionTreeClassifier,plot_tree\n",
    "from sklearn.model_selection import train_test_split\n",
    "import graphviz\n",
    "from sklearn.tree import export_graphviz"
   ]
  },
  {
   "cell_type": "code",
   "execution_count": null,
   "id": "5476ee31",
   "metadata": {},
   "outputs": [],
   "source": [
    "data=pd.read_csv(\"Salary Data.csv\")"
   ]
  },
  {
   "cell_type": "code",
   "execution_count": null,
   "id": "509826bd",
   "metadata": {},
   "outputs": [],
   "source": [
    "data.head()"
   ]
  },
  {
   "cell_type": "code",
   "execution_count": null,
   "id": "d92454a1",
   "metadata": {},
   "outputs": [],
   "source": [
    "data.shape"
   ]
  },
  {
   "cell_type": "code",
   "execution_count": null,
   "id": "f1d02cb9",
   "metadata": {},
   "outputs": [],
   "source": [
    "data.columns"
   ]
  },
  {
   "cell_type": "code",
   "execution_count": null,
   "id": "4441d5d7",
   "metadata": {},
   "outputs": [],
   "source": [
    "data.dtypes"
   ]
  },
  {
   "cell_type": "code",
   "execution_count": null,
   "id": "041a5370",
   "metadata": {},
   "outputs": [],
   "source": [
    "data.isnull().sum()"
   ]
  },
  {
   "cell_type": "code",
   "execution_count": null,
   "id": "88951dda",
   "metadata": {},
   "outputs": [],
   "source": [
    "#dropping the null values\n",
    "data.dropna(inplace=True)"
   ]
  },
  {
   "cell_type": "code",
   "execution_count": null,
   "id": "8cf0825d",
   "metadata": {},
   "outputs": [],
   "source": [
    "data.shape"
   ]
  },
  {
   "cell_type": "code",
   "execution_count": null,
   "id": "d61bcbe1",
   "metadata": {},
   "outputs": [],
   "source": [
    "data.isnull().sum()"
   ]
  },
  {
   "cell_type": "code",
   "execution_count": null,
   "id": "4c2bfaa1",
   "metadata": {},
   "outputs": [],
   "source": [
    "data['Age']=data['Age'].astype(int)\n",
    "data['Salary']=data['Salary'].astype(int)"
   ]
  },
  {
   "cell_type": "code",
   "execution_count": null,
   "id": "05829473",
   "metadata": {},
   "outputs": [],
   "source": [
    "data.dtypes"
   ]
  },
  {
   "cell_type": "code",
   "execution_count": null,
   "id": "303ceb6c",
   "metadata": {},
   "outputs": [],
   "source": [
    "ax=sns.countplot(x='Education Level',data=data,hue='Gender',palette='rocket')\n",
    "plt.title('Classification of Employees based on Education Level and Gender')\n",
    "for p in ax.patches:\n",
    "    ax.text(p.get_x()+p.get_width()/2.,p.get_height(),f'{p.get_height()}',ha='center',va='bottom')"
   ]
  },
  {
   "cell_type": "code",
   "execution_count": null,
   "id": "b8645ac2",
   "metadata": {},
   "outputs": [],
   "source": [
    "sns.regplot(x='Years of Experience',y='Salary',data=data)\n",
    "plt.title('Relation between Years of Experience and Salary of employees')"
   ]
  },
  {
   "cell_type": "code",
   "execution_count": null,
   "id": "4abbd43e",
   "metadata": {},
   "outputs": [],
   "source": [
    "data['Education Level']=data['Education Level'].map({'Bachelor\\'s':1,'Master\\'s':2,'PhD':3})"
   ]
  },
  {
   "cell_type": "code",
   "execution_count": null,
   "id": "7b061471",
   "metadata": {},
   "outputs": [],
   "source": [
    "data['Gender']=data['Gender'].map({'Male':1,'Female':2})"
   ]
  },
  {
   "cell_type": "code",
   "execution_count": null,
   "id": "15331cb2",
   "metadata": {},
   "outputs": [],
   "source": [
    "data.head()"
   ]
  },
  {
   "cell_type": "code",
   "execution_count": null,
   "id": "f65c8584",
   "metadata": {},
   "outputs": [],
   "source": [
    "#independent variables\n",
    "x=data[['Age','Gender','Education Level','Years of Experience']]"
   ]
  },
  {
   "cell_type": "code",
   "execution_count": null,
   "id": "e0cedc4c",
   "metadata": {},
   "outputs": [],
   "source": [
    "#dependent variable\n",
    "y=data['Salary']"
   ]
  },
  {
   "cell_type": "code",
   "execution_count": null,
   "id": "cb7504ff",
   "metadata": {},
   "outputs": [],
   "source": [
    "x_train,x_test,y_train,y_test=train_test_split(x,y,test_size=0.20,random_state=43)"
   ]
  },
  {
   "cell_type": "code",
   "execution_count": null,
   "id": "c16a8d1f",
   "metadata": {},
   "outputs": [],
   "source": [
    "model=DecisionTreeClassifier(max_depth=3)"
   ]
  },
  {
   "cell_type": "code",
   "execution_count": null,
   "id": "a2637721",
   "metadata": {},
   "outputs": [],
   "source": [
    "model.fit(x_train,y_train)"
   ]
  },
  {
   "cell_type": "code",
   "execution_count": null,
   "id": "674e1058",
   "metadata": {},
   "outputs": [],
   "source": [
    "prediction=model.predict(x_test)"
   ]
  },
  {
   "cell_type": "code",
   "execution_count": null,
   "id": "9bb035cf",
   "metadata": {},
   "outputs": [],
   "source": [
    "df=pd.DataFrame({'Actual':y_test,'Predicted_value':prediction})"
   ]
  },
  {
   "cell_type": "code",
   "execution_count": null,
   "id": "7f0fcc01",
   "metadata": {},
   "outputs": [],
   "source": [
    "df.head()"
   ]
  },
  {
   "cell_type": "code",
   "execution_count": null,
   "id": "93449cc1",
   "metadata": {},
   "outputs": [],
   "source": [
    "accuracy=accuracy_score(y_test,prediction)"
   ]
  },
  {
   "cell_type": "code",
   "execution_count": null,
   "id": "c85c701b",
   "metadata": {},
   "outputs": [],
   "source": [
    "print('The accuracy of the Decision Tree Classifier Model is: ',accuracy)"
   ]
  },
  {
   "cell_type": "code",
   "execution_count": null,
   "id": "7c11cdde",
   "metadata": {},
   "outputs": [],
   "source": [
    "plt.figure(figsize=(15,15))\n",
    "plot_tree(model,filled=True,feature_names=x.columns)\n",
    "plt.show()"
   ]
  },
  {
   "cell_type": "code",
   "execution_count": null,
   "id": "4267aa88",
   "metadata": {},
   "outputs": [],
   "source": []
  }
 ],
 "metadata": {
  "kernelspec": {
   "display_name": "Python 3 (ipykernel)",
   "language": "python",
   "name": "python3"
  },
  "language_info": {
   "codemirror_mode": {
    "name": "ipython",
    "version": 3
   },
   "file_extension": ".py",
   "mimetype": "text/x-python",
   "name": "python",
   "nbconvert_exporter": "python",
   "pygments_lexer": "ipython3",
   "version": "3.11.3"
  }
 },
 "nbformat": 4,
 "nbformat_minor": 5
}
